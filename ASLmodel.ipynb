{
 "cells": [
  {
   "cell_type": "code",
   "execution_count": 1,
   "metadata": {},
   "outputs": [],
   "source": [
    "import numpy as np\n",
    "import cv2\n",
    "import os\n",
    "from scipy import ndimage\n",
    "from scipy.ndimage import convolve\n",
    "from scipy import misc\n",
    "import pandas as pd"
   ]
  },
  {
   "cell_type": "code",
   "execution_count": 2,
   "metadata": {},
   "outputs": [],
   "source": [
    "sigma=1.4\n",
    "kernel_size=5\n",
    "lowthreshold=0.09\n",
    "highthreshold=0.17\n",
    "strong_pixel=255\n",
    "weak_pixel=100\n",
    "img_smoothed = None\n",
    "gradientMat = None\n",
    "thetaMat = None\n",
    "nonMaxImg = None\n",
    "thresholdImg = None\n",
    "\n",
    "def rgb2gray(rgb):\n",
    "    r, g, b = rgb[:,:,0], rgb[:,:,1], rgb[:,:,2]\n",
    "    gray = 0.2989 * r + 0.5870 * g + 0.1140 * b\n",
    "    return gray\n",
    "\n",
    "def gaussian_kernel(size, sigma=1):\n",
    "    size = int(size) // 2\n",
    "    x, y = np.mgrid[-size:size+1, -size:size+1]\n",
    "    normal = 1 / (2.0 * np.pi * sigma**2)\n",
    "    g =  np.exp(-((x**2 + y**2) / (2.0*sigma**2))) * normal\n",
    "    return g\n",
    "\n",
    "def sobel_filters(img):\n",
    "    Kx = np.array([[-1, 0, 1], [-2, 0, 2], [-1, 0, 1]], np.float32)\n",
    "    Ky = np.array([[1, 2, 1], [0, 0, 0], [-1, -2, -1]], np.float32)\n",
    "    Ix = ndimage.convolve(img, Kx)\n",
    "    Iy = ndimage.convolve(img, Ky)\n",
    "    G = np.hypot(Ix, Iy)\n",
    "    G = G / G.max() * 255\n",
    "    theta = np.arctan2(Iy, Ix)\n",
    "    return (G, theta)\n",
    "\n",
    "def non_max_suppression(img, D):\n",
    "    M, N = img.shape\n",
    "    Z = np.zeros((M,N), dtype=np.int32)\n",
    "    angle = D * 180. / np.pi\n",
    "    angle[angle < 0] += 180\n",
    "    for i in range(1,M-1):\n",
    "        for j in range(1,N-1):\n",
    "            try:\n",
    "                q = 255\n",
    "                r = 255\n",
    "                if (0 <= angle[i,j] < 22.5) or (157.5 <= angle[i,j] <= 180):\n",
    "                    q = img[i, j+1]\n",
    "                    r = img[i, j-1]\n",
    "                elif (22.5 <= angle[i,j] < 67.5):\n",
    "                    q = img[i+1, j-1]\n",
    "                    r = img[i-1, j+1]\n",
    "                elif (67.5 <= angle[i,j] < 112.5):\n",
    "                    q = img[i+1, j]\n",
    "                    r = img[i-1, j]\n",
    "                elif (112.5 <= angle[i,j] < 157.5):\n",
    "                    q = img[i-1, j-1]\n",
    "                    r = img[i+1, j+1]\n",
    "                if (img[i,j] >= q) and (img[i,j] >= r):\n",
    "                    Z[i,j] = img[i,j]\n",
    "                else:\n",
    "                    Z[i,j] = 0\n",
    "            except IndexError as e:\n",
    "                pass\n",
    "    return Z\n",
    "\n",
    "def threshold(img):\n",
    "    global highthreshold\n",
    "    global lowthreshold\n",
    "    global strong_pixel\n",
    "    global weak_pixel\n",
    "    highThresholdP = img.max() * highthreshold;\n",
    "    lowThresholdP = highThresholdP * lowthreshold;\n",
    "    M, N = img.shape\n",
    "    res = np.zeros((M,N), dtype=np.int32)\n",
    "    weak = np.int32(weak_pixel)\n",
    "    strong = np.int32(strong_pixel)\n",
    "    strong_i, strong_j = np.where(img >= highThresholdP)\n",
    "    zeros_i, zeros_j = np.where(img < lowThresholdP)\n",
    "    weak_i, weak_j = np.where((img <= highThresholdP) & (img >= lowThresholdP))\n",
    "    res[strong_i, strong_j] = strong\n",
    "    res[weak_i, weak_j] = weak\n",
    "    return (res)\n",
    "\n",
    "def hysteresis(img):\n",
    "    global strong_pixel\n",
    "    global weak_pixel\n",
    "    M, N = img.shape\n",
    "    weak = weak_pixel\n",
    "    strong = strong_pixel\n",
    "    for i in range(1, M-1):\n",
    "        for j in range(1, N-1):\n",
    "            if (img[i,j] == weak):\n",
    "                try:\n",
    "                    if ((img[i+1, j-1] == strong) or (img[i+1, j] == strong) or (img[i+1, j+1] == strong)\n",
    "                        or (img[i, j-1] == strong) or (img[i, j+1] == strong)\n",
    "                        or (img[i-1, j-1] == strong) or (img[i-1, j] == strong) or (img[i-1, j+1] == strong)):\n",
    "                        img[i, j] = strong\n",
    "                    else:\n",
    "                        img[i, j] = 0\n",
    "                except IndexError as e:\n",
    "                    pass\n",
    "    return img\n",
    "\n",
    "def canny_preprocessing(img):\n",
    "    img_smoothed = convolve(img, gaussian_kernel(kernel_size, sigma))\n",
    "    gradientMat, thetaMat = sobel_filters(img_smoothed)\n",
    "    nonMaxImg = non_max_suppression(gradientMat, thetaMat)\n",
    "    thresholdImg = threshold(nonMaxImg)\n",
    "    img_final = hysteresis(thresholdImg)\n",
    "    return img_final\n"
   ]
  },
  {
   "cell_type": "code",
   "execution_count": null,
   "metadata": {},
   "outputs": [],
   "source": []
  },
  {
   "cell_type": "code",
   "execution_count": 3,
   "metadata": {},
   "outputs": [],
   "source": [
    "path = \"/Users/dhatrirukkannagari/Desktop/HackUTA/asl_dataset\"\n",
    "\n",
    "import os \n",
    "import cv2"
   ]
  },
  {
   "cell_type": "code",
   "execution_count": 4,
   "metadata": {},
   "outputs": [],
   "source": [
    "myList = os.listdir(path)\n",
    "myList.remove(\".DS_Store\")\n",
    "#myList"
   ]
  },
  {
   "cell_type": "code",
   "execution_count": 5,
   "metadata": {},
   "outputs": [],
   "source": [
    "#myList\n",
    "category_index={\"0\":0,\"1\":1,\"2\":2,\"3\":3,\"4\":4,\"5\":5,\"6\":6,\"7\":7,\"8\":8,\"9\":9,\"a\":10,\"b\":11,\"c\":12,\"d\":13,\"e\":14,\"f\":15,\"g\":16,\"h\":17,\"i\":18,\"j\":19,\"k\":20,\"l\":21,\"m\":22,\"n\":23,\"o\":24,\"p\":25,\"q\":26,\"r\":27,\"s\":28,\"t\":29,\"u\":30,\"v\":31,\"w\":32,\"x\":33,\"y\":34,\"z\":35}\n",
    "categories=[\"0\",\"1\",\"2\",\"3\",\"4\",\"5\",\"6\",\"7\",\"8\",\"9\",\"a\",\"b\",\"c\",\"d\",\"e\",\"f\",\"g\",\"h\",\"i\",\"j\",\"k\",\"l\",\"m\",\"n\",\"o\",\"p\",\"q\",\"r\",\"s\",\"t\",\"u\",\"v\",\"w\",\"x\",\"y\",\"z\"]\n"
   ]
  },
  {
   "cell_type": "code",
   "execution_count": 6,
   "metadata": {},
   "outputs": [
    {
     "data": {
      "text/plain": [
       "0"
      ]
     },
     "execution_count": 6,
     "metadata": {},
     "output_type": "execute_result"
    }
   ],
   "source": [
    "category_index[categories[0]]"
   ]
  },
  {
   "cell_type": "code",
   "execution_count": 7,
   "metadata": {},
   "outputs": [
    {
     "name": "stdout",
     "output_type": "stream",
     "text": [
      "--------------------------------\n",
      "Loading images of the category 0.\n",
      " No. of images in this category are: 70\n",
      "--------------------------------\n",
      "--------------------------------\n",
      "Loading images of the category 1.\n",
      " No. of images in this category are: 70\n",
      "--------------------------------\n",
      "--------------------------------\n",
      "Loading images of the category 2.\n",
      " No. of images in this category are: 70\n",
      "--------------------------------\n",
      "--------------------------------\n",
      "Loading images of the category 3.\n",
      " No. of images in this category are: 70\n",
      "--------------------------------\n",
      "--------------------------------\n",
      "Loading images of the category 4.\n",
      " No. of images in this category are: 70\n",
      "--------------------------------\n",
      "--------------------------------\n",
      "Loading images of the category 5.\n",
      " No. of images in this category are: 70\n",
      "--------------------------------\n",
      "--------------------------------\n",
      "Loading images of the category 6.\n",
      " No. of images in this category are: 70\n",
      "--------------------------------\n",
      "--------------------------------\n",
      "Loading images of the category 7.\n",
      " No. of images in this category are: 70\n",
      "--------------------------------\n",
      "--------------------------------\n",
      "Loading images of the category 8.\n",
      " No. of images in this category are: 70\n",
      "--------------------------------\n",
      "--------------------------------\n",
      "Loading images of the category 9.\n",
      " No. of images in this category are: 70\n",
      "--------------------------------\n",
      "--------------------------------\n",
      "Loading images of the category a.\n",
      " No. of images in this category are: 70\n",
      "--------------------------------\n",
      "--------------------------------\n",
      "Loading images of the category b.\n",
      " No. of images in this category are: 70\n",
      "--------------------------------\n",
      "--------------------------------\n",
      "Loading images of the category c.\n",
      " No. of images in this category are: 70\n",
      "--------------------------------\n",
      "--------------------------------\n",
      "Loading images of the category d.\n",
      " No. of images in this category are: 70\n",
      "--------------------------------\n",
      "--------------------------------\n",
      "Loading images of the category e.\n",
      " No. of images in this category are: 70\n",
      "--------------------------------\n",
      "--------------------------------\n",
      "Loading images of the category f.\n",
      " No. of images in this category are: 70\n",
      "--------------------------------\n",
      "--------------------------------\n",
      "Loading images of the category g.\n",
      " No. of images in this category are: 70\n",
      "--------------------------------\n",
      "--------------------------------\n",
      "Loading images of the category h.\n",
      " No. of images in this category are: 70\n",
      "--------------------------------\n",
      "--------------------------------\n",
      "Loading images of the category i.\n",
      " No. of images in this category are: 70\n",
      "--------------------------------\n",
      "--------------------------------\n",
      "Loading images of the category j.\n",
      " No. of images in this category are: 70\n",
      "--------------------------------\n",
      "--------------------------------\n",
      "Loading images of the category k.\n",
      " No. of images in this category are: 70\n",
      "--------------------------------\n",
      "--------------------------------\n",
      "Loading images of the category l.\n",
      " No. of images in this category are: 70\n",
      "--------------------------------\n",
      "--------------------------------\n",
      "Loading images of the category m.\n",
      " No. of images in this category are: 70\n",
      "--------------------------------\n",
      "--------------------------------\n",
      "Loading images of the category n.\n",
      " No. of images in this category are: 70\n",
      "--------------------------------\n",
      "--------------------------------\n",
      "Loading images of the category o.\n",
      " No. of images in this category are: 70\n",
      "--------------------------------\n",
      "--------------------------------\n",
      "Loading images of the category p.\n",
      " No. of images in this category are: 70\n",
      "--------------------------------\n",
      "--------------------------------\n",
      "Loading images of the category q.\n",
      " No. of images in this category are: 70\n",
      "--------------------------------\n",
      "--------------------------------\n",
      "Loading images of the category r.\n",
      " No. of images in this category are: 70\n",
      "--------------------------------\n",
      "--------------------------------\n",
      "Loading images of the category s.\n",
      " No. of images in this category are: 70\n",
      "--------------------------------\n",
      "--------------------------------\n",
      "Loading images of the category t.\n",
      " No. of images in this category are: 65\n",
      "--------------------------------\n",
      "--------------------------------\n",
      "Loading images of the category u.\n",
      " No. of images in this category are: 70\n",
      "--------------------------------\n",
      "--------------------------------\n",
      "Loading images of the category v.\n",
      " No. of images in this category are: 70\n",
      "--------------------------------\n",
      "--------------------------------\n",
      "Loading images of the category w.\n",
      " No. of images in this category are: 70\n",
      "--------------------------------\n",
      "--------------------------------\n",
      "Loading images of the category x.\n",
      " No. of images in this category are: 70\n",
      "--------------------------------\n",
      "--------------------------------\n",
      "Loading images of the category y.\n",
      " No. of images in this category are: 70\n",
      "--------------------------------\n",
      "--------------------------------\n",
      "Loading images of the category z.\n",
      " No. of images in this category are: 70\n",
      "--------------------------------\n"
     ]
    }
   ],
   "source": [
    "a=[]\n",
    "image_label=[]\n",
    "\n",
    "for category in categories:\n",
    "    folder_path=os.path.join(path,category) \n",
    "    # print(folder_path)\n",
    "    images=os.listdir(folder_path) \n",
    "    print(\"--------------------------------\")\n",
    "    # print(len(images[0]))\n",
    "    print(f'Loading images of the category {category}.\\n No. of images in this category are: {len(images)}')\n",
    "    print(\"--------------------------------\")\n",
    "    for image in images:\n",
    "        img_path=os.path.join(folder_path,image)\n",
    "        #print(img_path)\n",
    "        try:\n",
    "            img=cv2.imread(img_path)\n",
    "            img=rgb2gray(img)\n",
    "            preprocessed_img=canny_preprocessing(img)\n",
    "            a.append(preprocessed_img)\n",
    "            image_label.append(category_index[category])\n",
    "        except:\n",
    "            pass\n"
   ]
  },
  {
   "cell_type": "code",
   "execution_count": 8,
   "metadata": {},
   "outputs": [
    {
     "data": {
      "text/plain": [
       "2515"
      ]
     },
     "execution_count": 8,
     "metadata": {},
     "output_type": "execute_result"
    }
   ],
   "source": [
    "len(a)"
   ]
  },
  {
   "cell_type": "code",
   "execution_count": 9,
   "metadata": {},
   "outputs": [
    {
     "data": {
      "text/plain": [
       "2515"
      ]
     },
     "execution_count": 9,
     "metadata": {},
     "output_type": "execute_result"
    }
   ],
   "source": [
    "len(image_label)"
   ]
  },
  {
   "cell_type": "code",
   "execution_count": 10,
   "metadata": {},
   "outputs": [],
   "source": [
    "import numpy as np\n",
    "a=np.array(a)\n",
    "labels=np.array(image_label)"
   ]
  },
  {
   "cell_type": "code",
   "execution_count": 11,
   "metadata": {},
   "outputs": [
    {
     "data": {
      "text/plain": [
       "((2515, 400, 400), (2515,))"
      ]
     },
     "execution_count": 11,
     "metadata": {},
     "output_type": "execute_result"
    }
   ],
   "source": [
    "a.shape,labels.shape"
   ]
  },
  {
   "cell_type": "code",
   "execution_count": 12,
   "metadata": {},
   "outputs": [],
   "source": [
    "from sklearn.model_selection import train_test_split\n",
    "X_train,X_test,y_train,y_test=train_test_split(a,labels,test_size=0.1,random_state=19)"
   ]
  },
  {
   "cell_type": "code",
   "execution_count": 13,
   "metadata": {},
   "outputs": [],
   "source": [
    "numOfCategories=36\n",
    "\n",
    "from keras.utils import to_categorical\n",
    "y_train=to_categorical(y_train,numOfCategories)\n",
    "y_test=to_categorical(y_test,numOfCategories)"
   ]
  },
  {
   "cell_type": "code",
   "execution_count": 14,
   "metadata": {},
   "outputs": [
    {
     "data": {
      "text/plain": [
       "((2263, 400, 400), (2263, 36))"
      ]
     },
     "execution_count": 14,
     "metadata": {},
     "output_type": "execute_result"
    }
   ],
   "source": [
    "X_train.shape, y_train.shape"
   ]
  },
  {
   "cell_type": "code",
   "execution_count": 15,
   "metadata": {},
   "outputs": [
    {
     "data": {
      "text/plain": [
       "((252, 400, 400), (252, 36))"
      ]
     },
     "execution_count": 15,
     "metadata": {},
     "output_type": "execute_result"
    }
   ],
   "source": [
    "X_test.shape, y_test.shape"
   ]
  },
  {
   "cell_type": "code",
   "execution_count": null,
   "metadata": {},
   "outputs": [],
   "source": []
  },
  {
   "cell_type": "code",
   "execution_count": 16,
   "metadata": {},
   "outputs": [],
   "source": [
    "import keras\n",
    "from keras.models import Sequential\n",
    "from keras.layers import Dense,Flatten,Dropout\n",
    "from keras.layers import Conv2D,MaxPooling2D\n",
    "from keras.layers import BatchNormalization"
   ]
  },
  {
   "cell_type": "code",
   "execution_count": 17,
   "metadata": {},
   "outputs": [],
   "source": [
    "model=Sequential()\n",
    "\n",
    "model.add(Conv2D(64,kernel_size=(3,3),input_shape=(400, 400, 1),activation=\"relu\"))\n",
    "model.add(BatchNormalization())\n",
    "model.add(Conv2D(64,kernel_size=(3,3),input_shape=(400, 400, 1),activation=\"relu\"))\n",
    "model.add(BatchNormalization())\n",
    "model.add(MaxPooling2D((2,2)))\n",
    "model.add(Dropout(0.4))\n",
    "\n",
    "model.add(Conv2D(128,kernel_size=(3,3),activation=\"relu\"))\n",
    "model.add(BatchNormalization())\n",
    "model.add(Conv2D(128,kernel_size=(3,3),activation=\"relu\"))\n",
    "model.add(BatchNormalization())\n",
    "model.add(MaxPooling2D((2,2)))\n",
    "model.add(Dropout(0.4))\n",
    "\n",
    "model.add(Conv2D(256,kernel_size=(3,3),activation=\"relu\"))\n",
    "model.add(BatchNormalization())\n",
    "model.add(Conv2D(256,kernel_size=(3,3),activation=\"relu\"))\n",
    "model.add(BatchNormalization())\n",
    "model.add(MaxPooling2D((2,2)))\n",
    "model.add(Dropout(0.4))\n",
    "\n",
    "model.add(Conv2D(512,kernel_size=(3,3),activation=\"relu\"))\n",
    "model.add(BatchNormalization())\n",
    "model.add(Conv2D(512,kernel_size=(3,3),activation=\"relu\"))\n",
    "model.add(BatchNormalization())\n",
    "model.add(MaxPooling2D((2,2)))\n",
    "model.add(Dropout(0.4))\n",
    "\n",
    "model.add(Conv2D(512,kernel_size=(3,3),activation=\"relu\"))\n",
    "model.add(BatchNormalization())\n",
    "model.add(Conv2D(512,kernel_size=(3,3),activation=\"relu\"))\n",
    "model.add(BatchNormalization())\n",
    "model.add(MaxPooling2D((2,2)))\n",
    "model.add(Dropout(0.4))\n",
    "\n",
    "\n",
    "\n",
    "model.add(Flatten())\n",
    "model.add(Dropout(0.5))\n",
    "model.add(Dense(128,activation=\"relu\"))\n",
    "model.add(Dense(64,activation=\"relu\"))\n",
    "model.add(Dense(36,activation=\"softmax\"))"
   ]
  },
  {
   "cell_type": "code",
   "execution_count": 18,
   "metadata": {},
   "outputs": [
    {
     "name": "stdout",
     "output_type": "stream",
     "text": [
      "Model: \"sequential\"\n",
      "_________________________________________________________________\n",
      " Layer (type)                Output Shape              Param #   \n",
      "=================================================================\n",
      " conv2d (Conv2D)             (None, 398, 398, 64)      640       \n",
      "                                                                 \n",
      " batch_normalization (Batch  (None, 398, 398, 64)      256       \n",
      " Normalization)                                                  \n",
      "                                                                 \n",
      " conv2d_1 (Conv2D)           (None, 396, 396, 64)      36928     \n",
      "                                                                 \n",
      " batch_normalization_1 (Bat  (None, 396, 396, 64)      256       \n",
      " chNormalization)                                                \n",
      "                                                                 \n",
      " max_pooling2d (MaxPooling2  (None, 198, 198, 64)      0         \n",
      " D)                                                              \n",
      "                                                                 \n",
      " dropout (Dropout)           (None, 198, 198, 64)      0         \n",
      "                                                                 \n",
      " conv2d_2 (Conv2D)           (None, 196, 196, 128)     73856     \n",
      "                                                                 \n",
      " batch_normalization_2 (Bat  (None, 196, 196, 128)     512       \n",
      " chNormalization)                                                \n",
      "                                                                 \n",
      " conv2d_3 (Conv2D)           (None, 194, 194, 128)     147584    \n",
      "                                                                 \n",
      " batch_normalization_3 (Bat  (None, 194, 194, 128)     512       \n",
      " chNormalization)                                                \n",
      "                                                                 \n",
      " max_pooling2d_1 (MaxPoolin  (None, 97, 97, 128)       0         \n",
      " g2D)                                                            \n",
      "                                                                 \n",
      " dropout_1 (Dropout)         (None, 97, 97, 128)       0         \n",
      "                                                                 \n",
      " conv2d_4 (Conv2D)           (None, 95, 95, 256)       295168    \n",
      "                                                                 \n",
      " batch_normalization_4 (Bat  (None, 95, 95, 256)       1024      \n",
      " chNormalization)                                                \n",
      "                                                                 \n",
      " conv2d_5 (Conv2D)           (None, 93, 93, 256)       590080    \n",
      "                                                                 \n",
      " batch_normalization_5 (Bat  (None, 93, 93, 256)       1024      \n",
      " chNormalization)                                                \n",
      "                                                                 \n",
      " max_pooling2d_2 (MaxPoolin  (None, 46, 46, 256)       0         \n",
      " g2D)                                                            \n",
      "                                                                 \n",
      " dropout_2 (Dropout)         (None, 46, 46, 256)       0         \n",
      "                                                                 \n",
      " conv2d_6 (Conv2D)           (None, 44, 44, 512)       1180160   \n",
      "                                                                 \n",
      " batch_normalization_6 (Bat  (None, 44, 44, 512)       2048      \n",
      " chNormalization)                                                \n",
      "                                                                 \n",
      " conv2d_7 (Conv2D)           (None, 42, 42, 512)       2359808   \n",
      "                                                                 \n",
      " batch_normalization_7 (Bat  (None, 42, 42, 512)       2048      \n",
      " chNormalization)                                                \n",
      "                                                                 \n",
      " max_pooling2d_3 (MaxPoolin  (None, 21, 21, 512)       0         \n",
      " g2D)                                                            \n",
      "                                                                 \n",
      " dropout_3 (Dropout)         (None, 21, 21, 512)       0         \n",
      "                                                                 \n",
      " conv2d_8 (Conv2D)           (None, 19, 19, 512)       2359808   \n",
      "                                                                 \n",
      " batch_normalization_8 (Bat  (None, 19, 19, 512)       2048      \n",
      " chNormalization)                                                \n",
      "                                                                 \n",
      " conv2d_9 (Conv2D)           (None, 17, 17, 512)       2359808   \n",
      "                                                                 \n",
      " batch_normalization_9 (Bat  (None, 17, 17, 512)       2048      \n",
      " chNormalization)                                                \n",
      "                                                                 \n",
      " max_pooling2d_4 (MaxPoolin  (None, 8, 8, 512)         0         \n",
      " g2D)                                                            \n",
      "                                                                 \n",
      " dropout_4 (Dropout)         (None, 8, 8, 512)         0         \n",
      "                                                                 \n",
      " flatten (Flatten)           (None, 32768)             0         \n",
      "                                                                 \n",
      " dropout_5 (Dropout)         (None, 32768)             0         \n",
      "                                                                 \n",
      " dense (Dense)               (None, 128)               4194432   \n",
      "                                                                 \n",
      " dense_1 (Dense)             (None, 64)                8256      \n",
      "                                                                 \n",
      " dense_2 (Dense)             (None, 36)                2340      \n",
      "                                                                 \n",
      "=================================================================\n",
      "Total params: 13620644 (51.96 MB)\n",
      "Trainable params: 13614756 (51.94 MB)\n",
      "Non-trainable params: 5888 (23.00 KB)\n",
      "_________________________________________________________________\n"
     ]
    }
   ],
   "source": [
    "model.summary()"
   ]
  },
  {
   "cell_type": "code",
   "execution_count": 19,
   "metadata": {},
   "outputs": [],
   "source": [
    "model.compile(optimizer=\"adam\",loss=\"categorical_crossentropy\",metrics=[\"accuracy\"])"
   ]
  },
  {
   "cell_type": "code",
   "execution_count": 20,
   "metadata": {},
   "outputs": [
    {
     "name": "stdout",
     "output_type": "stream",
     "text": [
      "Epoch 1/5\n",
      "46/46 [==============================] - 1684s 37s/step - loss: 2.9994 - accuracy: 0.3354 - val_loss: 180.8767 - val_accuracy: 0.0754\n",
      "Epoch 2/5\n",
      "46/46 [==============================] - 1508s 33s/step - loss: 0.8033 - accuracy: 0.7671 - val_loss: 18.5227 - val_accuracy: 0.2738\n",
      "Epoch 3/5\n",
      "46/46 [==============================] - 1793s 39s/step - loss: 0.4828 - accuracy: 0.8502 - val_loss: 7.6470 - val_accuracy: 0.3810\n",
      "Epoch 4/5\n",
      "46/46 [==============================] - 1486s 32s/step - loss: 0.2989 - accuracy: 0.9037 - val_loss: 1.2959 - val_accuracy: 0.7262\n",
      "Epoch 5/5\n",
      "46/46 [==============================] - 1594s 35s/step - loss: 0.2626 - accuracy: 0.9125 - val_loss: 0.5527 - val_accuracy: 0.8611\n"
     ]
    }
   ],
   "source": [
    "history=model.fit(X_train,y_train,batch_size=50,epochs=5,validation_data=(X_test,y_test))\n"
   ]
  },
  {
   "cell_type": "code",
   "execution_count": 21,
   "metadata": {},
   "outputs": [],
   "source": [
    "#Saving the model\n",
    "model_json=model.to_json()\n",
    "with open(\"asl_model.json\",\"w\") as json_file:\n",
    "    json_file.write(model_json)\n",
    "    #serializing weights to HDF5\n",
    "model.save_weights(\"asl_model.h5\")"
   ]
  },
  {
   "cell_type": "code",
   "execution_count": 22,
   "metadata": {},
   "outputs": [
    {
     "data": {
      "image/png": "[encoded data removed]",
      "text/plain": [
       "<Figure size 1000x500 with 2 Axes>"
      ]
     },
     "metadata": {},
     "output_type": "display_data"
    }
   ],
   "source": [
    "import matplotlib.pyplot as plt\n",
    "\n",
    "plt.figure(figsize=(10, 5))\n",
    "plt.subplot(1, 2, 1)\n",
    "plt.plot(history.history['loss'])\n",
    "plt.plot(history.history['val_loss'])\n",
    "plt.title('Model Loss')\n",
    "plt.xlabel('Epoch')\n",
    "plt.ylabel('Loss')\n",
    "plt.legend(['Train', 'Validation'], loc='upper right')\n",
    "\n",
    "# Plot training & validation accuracy\n",
    "plt.subplot(1, 2, 2)\n",
    "plt.plot(history.history['accuracy'])\n",
    "plt.plot(history.history['val_accuracy'])\n",
    "plt.title('Model Accuracy')\n",
    "plt.xlabel('Epoch')\n",
    "plt.ylabel('Accuracy')\n",
    "plt.legend(['Train', 'Validation'], loc='lower right')\n",
    "\n",
    "plt.tight_layout()\n",
    "plt.show()\n"
   ]
  },
  {
   "cell_type": "code",
   "execution_count": null,
   "metadata": {},
   "outputs": [],
   "source": []
  }
 ],
 "metadata": {
  "kernelspec": {
   "display_name": "myenv",
   "language": "python",
   "name": "python3"
  },
  "language_info": {
   "codemirror_mode": {
    "name": "ipython",
    "version": 3
   },
   "file_extension": ".py",
   "mimetype": "text/x-python",
   "name": "python",
   "nbconvert_exporter": "python",
   "pygments_lexer": "ipython3",
   "version": "3.11.4"
  }
 },
 "nbformat": 4,
 "nbformat_minor": 2
}
